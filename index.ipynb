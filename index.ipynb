{
 "cells": [
  {
   "cell_type": "markdown",
   "metadata": {},
   "source": [
    "# Module 2 Summative Lab\n",
    "\n",
    "## Introduction\n",
    "\n",
    "For today's section, we're going to work on a single big lab to apply everything we've learned in Module 2!\n",
    "\n",
    "## About This Lab\n",
    "\n",
    "A quick note before getting started--this lab isn't like other labs you seen so far. This lab is meant to take ~8 hours to complete, so it's much longer and more challenging that the average labs you've seen so far. If you feel like this lab is challenging or that you might be struggling a bit, don't fret--that's by design! With everything we've learned about Web Scraping, APIs, and Databases, the best way to test our knowledge of it is to build something substantial! \n",
    "\n",
    "## The Project\n",
    "\n",
    "In this lab, we're going to make use of everything we've learned about APIs, databases, and Object-Oriented Programming to **_Extract, Transform, and Load_** (or **_ETL_**, for short) some data from a SQL database into a MongoDB Database. \n",
    "\n",
    "You'll find a database containing information about soccer teams and the matches they've played in the file `database.sqlite`. For this project, our goal is to get the data we think is important from this SQL database, do some calculations and data transformation, and then store everything in a MongoDB database. \n",
    "\n",
    "Let's get into the specifics of this project.\n",
    "\n",
    "### The Goal\n",
    "\n",
    "Start by examining the data dictionary for the SQL database we'll be working with, which comes from this [kaggle page](https://www.kaggle.com/laudanum/footballdelphi).  Familiarize yourself with the tables it contains, and what each column means. We'll be using this database to get data on each soccer team, calculate some summary statistics, and then store each in a MongoDB database. \n",
    "\n",
    "Upon completion of this lab, each unique team in this dataset should have a record in the MongoDB instance containing the following information:\n",
    "\n",
    "* The name of the team\n",
    "* The total number of goals scored by the team during the 2011 season\n",
    "* The total number of wins the team earned during the 2011 season\n",
    "* A histogram visualization of the team's wins and losses for the 2011 season (store the visualization directly)\n",
    "* The team's win percentage on days where it was raining during games in the 2011 season. \n",
    "\n",
    "#### Getting the Weather Data\n",
    "\n",
    "Note that for this last calculation, you'll need to figure out if it was raining or not during the game. The database itself does not contain this information, but it does contain the date on which the game was played. For this, you'll need to use the [DarkSky API](https://darksky.net/dev) to get the historical weather data for that day. Note that each game is played in a different location, and this information is not contained in our SQL database. However, the teams in this database are largely german, so go ahead and just use the weather in Berlin, Germany as a proxy for this information. If it was raining in Berlin on the day the game was played, count that as rain game--**_you do not need to try and figure out the actual weather at each game's location, because we don't have that information!_**\n",
    "\n",
    "#### NOTE: The DarkSky API is limited to 1000 free API calls a day, so be sure to test your model on very small samples. Otherwise, you'll hit the rate limit!\n",
    "\n",
    "## Project Architecture\n",
    "\n",
    "Unlike previous labs, this lab is more open-ended, and will require you to make design decisions and plan out your strategy for building a system with this many working parts. However, **_using Object-Oriented Programming is a requirement for this project--you must create at least 2 separate, well structured classes in your solution!_** Although it may seem easier to \"just start coding\", this is a classic beginner's mistake. Instead, think about separating out the different functionalities you'll need to reach your goal, and then build classes to handle each. For instance, at minimum, you'll need to:\n",
    "\n",
    "* Query the SQL database\n",
    "* Calculate summary statistics\n",
    "* Get the weather data from the DarkSky API\n",
    "* Load the data into MongoDB\n",
    "\n",
    "We **_strongly recommend_** you consider creating separate classes for handling at least some of these of these tasks.  Be sure to plan the inputs, outputs, and methods for each class before you begin coding! \n",
    "\n",
    "**_NOTE:_** We have provided some empty classes below. You are welcome to delete them and use a different architecture for this project if you so choose.  You do not have to use each of them, they are just there to give you an idea of what you could sorts of classes you may want to consider using.\n",
    "\n",
    "### Rapid Prototyping and Refactoring\n",
    "\n",
    "It's totally okay to try to get a task working without using OOP. For instance, when experimenting with the DarkSky API for getting historical weather data, it makes sense to just write the code in the cells and rapidly iterate until you get it all working. However, once you get it working, you're not done--you should then **_Refactor_** your code into functions or classes to make your code more modular, reusable, understandable, and maintainable! \n",
    "\n",
    "In short--do what you need to do to get each separate piece of functionality working, and then refactor it into a class after you've figured it out!\n",
    "\n",
    "### Some Final Advice\n",
    "\n",
    "You haven't built anything this big or complex thus far, so you may not yet fully realize how much trial and error goes into it. If your code keeps breaking, resist the urge to get frustrated, and just keep working. Software development is an iterative process!  No one writes perfect code that works the first time for something this involved. You're going to run into _a lot_ of small errors in this project, right up until the point where it just works, and then you're done! However, you can reduce these errors by planning out your code, and thinking about how all of the pieces fit together before you begin coding. Once you have some basic understanding of how it all will work, then you'll know what you need to build, and then all that is left is to build it!\n",
    "\n",
    "In short:\n",
    "\n",
    "* Plan ahead--you'll thank yourself later!\n",
    "* Errors and broken code aren't bad, they're normal. \n",
    "* Keep working, and stay confident--you can do this!\n",
    "\n",
    "Good luck--we look forward to seeing your completed project!"
   ]
  },
  {
   "cell_type": "code",
   "execution_count": 1,
   "metadata": {},
   "outputs": [],
   "source": [
    "# !pip install -U python-dotenv\n",
    "# !pip install pymongo\n",
    "\n",
    "%load_ext autoreload\n",
    "%autoreload 2"
   ]
  },
  {
   "cell_type": "code",
   "execution_count": 106,
   "metadata": {},
   "outputs": [],
   "source": [
    "# We've scaffolded your classes in the provided lib.py file\n",
    "\n",
    "from lib import MongoHandler, WeatherGetter\n",
    "\n",
    "import requests\n",
    "import sqlite3\n",
    "import pandas as pd\n",
    "import matplotlib.pyplot as plt"
   ]
  },
  {
   "cell_type": "markdown",
   "metadata": {},
   "source": [
    "## 1. Load in the Data "
   ]
  },
  {
   "cell_type": "code",
   "execution_count": 16,
   "metadata": {},
   "outputs": [],
   "source": [
    "# connect to database\n",
    "conn = sqlite3.connect('database.sqlite')\n",
    "cur = conn.cursor()"
   ]
  },
  {
   "cell_type": "code",
   "execution_count": 19,
   "metadata": {},
   "outputs": [],
   "source": [
    "# method to run SQL query\n",
    "def sql(query):\n",
    "    cur.execute(query)\n",
    "\n",
    "    df = pd.DataFrame(cur.fetchall())\n",
    "    df.columns = [x[0] for x in cur.description]\n",
    "    return df"
   ]
  },
  {
   "cell_type": "code",
   "execution_count": 118,
   "metadata": {},
   "outputs": [
    {
     "data": {
      "text/html": [
       "<div>\n",
       "<style scoped>\n",
       "    .dataframe tbody tr th:only-of-type {\n",
       "        vertical-align: middle;\n",
       "    }\n",
       "\n",
       "    .dataframe tbody tr th {\n",
       "        vertical-align: top;\n",
       "    }\n",
       "\n",
       "    .dataframe thead th {\n",
       "        text-align: right;\n",
       "    }\n",
       "</style>\n",
       "<table border=\"1\" class=\"dataframe\">\n",
       "  <thead>\n",
       "    <tr style=\"text-align: right;\">\n",
       "      <th></th>\n",
       "      <th>Match_ID</th>\n",
       "      <th>Div</th>\n",
       "      <th>Season</th>\n",
       "      <th>Date</th>\n",
       "      <th>HomeTeam</th>\n",
       "      <th>AwayTeam</th>\n",
       "      <th>FTHG</th>\n",
       "      <th>FTAG</th>\n",
       "      <th>FTR</th>\n",
       "    </tr>\n",
       "  </thead>\n",
       "  <tbody>\n",
       "    <tr>\n",
       "      <th>0</th>\n",
       "      <td>1092</td>\n",
       "      <td>D1</td>\n",
       "      <td>2011</td>\n",
       "      <td>2012-03-31</td>\n",
       "      <td>Nurnberg</td>\n",
       "      <td>Bayern Munich</td>\n",
       "      <td>0</td>\n",
       "      <td>1</td>\n",
       "      <td>A</td>\n",
       "    </tr>\n",
       "    <tr>\n",
       "      <th>1</th>\n",
       "      <td>1093</td>\n",
       "      <td>D1</td>\n",
       "      <td>2011</td>\n",
       "      <td>2011-12-11</td>\n",
       "      <td>Stuttgart</td>\n",
       "      <td>Bayern Munich</td>\n",
       "      <td>1</td>\n",
       "      <td>2</td>\n",
       "      <td>A</td>\n",
       "    </tr>\n",
       "    <tr>\n",
       "      <th>2</th>\n",
       "      <td>1094</td>\n",
       "      <td>D1</td>\n",
       "      <td>2011</td>\n",
       "      <td>2011-08-13</td>\n",
       "      <td>Wolfsburg</td>\n",
       "      <td>Bayern Munich</td>\n",
       "      <td>0</td>\n",
       "      <td>1</td>\n",
       "      <td>A</td>\n",
       "    </tr>\n",
       "    <tr>\n",
       "      <th>3</th>\n",
       "      <td>1095</td>\n",
       "      <td>D1</td>\n",
       "      <td>2011</td>\n",
       "      <td>2011-11-27</td>\n",
       "      <td>Mainz</td>\n",
       "      <td>Bayern Munich</td>\n",
       "      <td>3</td>\n",
       "      <td>2</td>\n",
       "      <td>H</td>\n",
       "    </tr>\n",
       "    <tr>\n",
       "      <th>4</th>\n",
       "      <td>1096</td>\n",
       "      <td>D1</td>\n",
       "      <td>2011</td>\n",
       "      <td>2012-02-18</td>\n",
       "      <td>Freiburg</td>\n",
       "      <td>Bayern Munich</td>\n",
       "      <td>0</td>\n",
       "      <td>0</td>\n",
       "      <td>D</td>\n",
       "    </tr>\n",
       "  </tbody>\n",
       "</table>\n",
       "</div>"
      ],
      "text/plain": [
       "   Match_ID Div  Season        Date   HomeTeam       AwayTeam  FTHG  FTAG FTR\n",
       "0      1092  D1    2011  2012-03-31   Nurnberg  Bayern Munich     0     1   A\n",
       "1      1093  D1    2011  2011-12-11  Stuttgart  Bayern Munich     1     2   A\n",
       "2      1094  D1    2011  2011-08-13  Wolfsburg  Bayern Munich     0     1   A\n",
       "3      1095  D1    2011  2011-11-27      Mainz  Bayern Munich     3     2   H\n",
       "4      1096  D1    2011  2012-02-18   Freiburg  Bayern Munich     0     0   D"
      ]
     },
     "execution_count": 118,
     "metadata": {},
     "output_type": "execute_result"
    }
   ],
   "source": [
    "# see sample of data\n",
    "matches_df = sql('SELECT * FROM matches WHERE season = 2011')\n",
    "matches_df.head()"
   ]
  },
  {
   "cell_type": "markdown",
   "metadata": {},
   "source": [
    "## 2. Get Summary Statistics\n",
    "\n",
    "In this section we aim to get the below info\n",
    "\n",
    "-The total number of goals scored by the team during the 2011 season\n",
    "\n",
    "-The total number of wins the team earned during the 2011 season\n",
    "\n",
    "-A histogram visualization of the team's wins and losses for the 2011 season (store the visualization directly)\n",
    "\n",
    "-The team's win percentage on days where it was raining during games in the 2011 season."
   ]
  },
  {
   "cell_type": "code",
   "execution_count": 99,
   "metadata": {},
   "outputs": [],
   "source": [
    "# SUBSET the data into statistics as a Home team and as a Away team\n",
    "homegames_df = sql(\"\"\"\n",
    "    SELECT HomeTeam, Sum(FTHG) Home_Scores, Sum(FTR = 'H') Home_Wins, COUNT(*) Home_Games\n",
    "    FROM matches m\n",
    "    WHERE season = 2011\n",
    "    GROUP BY HomeTeam\n",
    "    \"\"\")\n",
    "\n",
    "awaygames_df = sql(\"\"\"\n",
    "    SELECT AwayTeam, Sum(FTAG) Away_Scores, Sum(FTR = 'A') Away_Wins, COUNT(*) Away_Games\n",
    "    FROM matches m\n",
    "    WHERE season = 2011\n",
    "    GROUP BY AwayTeam\n",
    "    \"\"\")\n"
   ]
  },
  {
   "cell_type": "code",
   "execution_count": 111,
   "metadata": {},
   "outputs": [],
   "source": [
    "scores = homegames_df.set_index('HomeTeam').join(awaygames_df.set_index('AwayTeam'))\n",
    "scores['Tot_Scores'] = scores['Home_Scores'] + scores['Away_Scores']\n",
    "scores['Tot_Wins'] = scores['Home_Wins'] + scores['Away_Wins']\n",
    "scores['Tot_Games'] = scores['Home_Games'] + scores['Away_Games']\n",
    "scores['Tot_Losses'] = scores['Tot_Games'] - scores['Tot_Wins']\n",
    "\n",
    "scores['Win_Perc'] = scores['Tot_Wins'] / scores['Tot_Games']"
   ]
  },
  {
   "cell_type": "code",
   "execution_count": 105,
   "metadata": {},
   "outputs": [
    {
     "data": {
      "text/plain": [
       "56"
      ]
     },
     "metadata": {},
     "output_type": "display_data"
    },
    {
     "data": {
      "text/html": [
       "<div>\n",
       "<style scoped>\n",
       "    .dataframe tbody tr th:only-of-type {\n",
       "        vertical-align: middle;\n",
       "    }\n",
       "\n",
       "    .dataframe tbody tr th {\n",
       "        vertical-align: top;\n",
       "    }\n",
       "\n",
       "    .dataframe thead th {\n",
       "        text-align: right;\n",
       "    }\n",
       "</style>\n",
       "<table border=\"1\" class=\"dataframe\">\n",
       "  <thead>\n",
       "    <tr style=\"text-align: right;\">\n",
       "      <th></th>\n",
       "      <th>Home_Scores</th>\n",
       "      <th>Home_Wins</th>\n",
       "      <th>Home_Games</th>\n",
       "      <th>Away_Scores</th>\n",
       "      <th>Away_Wins</th>\n",
       "      <th>Away_Games</th>\n",
       "      <th>Tot_Scores</th>\n",
       "      <th>Tot_Wins</th>\n",
       "      <th>Tot_Games</th>\n",
       "      <th>Tot_Losses</th>\n",
       "    </tr>\n",
       "    <tr>\n",
       "      <th>HomeTeam</th>\n",
       "      <th></th>\n",
       "      <th></th>\n",
       "      <th></th>\n",
       "      <th></th>\n",
       "      <th></th>\n",
       "      <th></th>\n",
       "      <th></th>\n",
       "      <th></th>\n",
       "      <th></th>\n",
       "      <th></th>\n",
       "    </tr>\n",
       "  </thead>\n",
       "  <tbody>\n",
       "    <tr>\n",
       "      <th>Aachen</th>\n",
       "      <td>15</td>\n",
       "      <td>4</td>\n",
       "      <td>17</td>\n",
       "      <td>15</td>\n",
       "      <td>2</td>\n",
       "      <td>17</td>\n",
       "      <td>30</td>\n",
       "      <td>6</td>\n",
       "      <td>34</td>\n",
       "      <td>28</td>\n",
       "    </tr>\n",
       "    <tr>\n",
       "      <th>Arsenal</th>\n",
       "      <td>39</td>\n",
       "      <td>12</td>\n",
       "      <td>19</td>\n",
       "      <td>35</td>\n",
       "      <td>9</td>\n",
       "      <td>19</td>\n",
       "      <td>74</td>\n",
       "      <td>21</td>\n",
       "      <td>38</td>\n",
       "      <td>17</td>\n",
       "    </tr>\n",
       "    <tr>\n",
       "      <th>Aston Villa</th>\n",
       "      <td>20</td>\n",
       "      <td>4</td>\n",
       "      <td>19</td>\n",
       "      <td>17</td>\n",
       "      <td>3</td>\n",
       "      <td>19</td>\n",
       "      <td>37</td>\n",
       "      <td>7</td>\n",
       "      <td>38</td>\n",
       "      <td>31</td>\n",
       "    </tr>\n",
       "    <tr>\n",
       "      <th>Augsburg</th>\n",
       "      <td>20</td>\n",
       "      <td>6</td>\n",
       "      <td>17</td>\n",
       "      <td>16</td>\n",
       "      <td>2</td>\n",
       "      <td>17</td>\n",
       "      <td>36</td>\n",
       "      <td>8</td>\n",
       "      <td>34</td>\n",
       "      <td>26</td>\n",
       "    </tr>\n",
       "    <tr>\n",
       "      <th>Bayern Munich</th>\n",
       "      <td>49</td>\n",
       "      <td>14</td>\n",
       "      <td>17</td>\n",
       "      <td>28</td>\n",
       "      <td>9</td>\n",
       "      <td>17</td>\n",
       "      <td>77</td>\n",
       "      <td>23</td>\n",
       "      <td>34</td>\n",
       "      <td>11</td>\n",
       "    </tr>\n",
       "  </tbody>\n",
       "</table>\n",
       "</div>"
      ],
      "text/plain": [
       "               Home_Scores  Home_Wins  Home_Games  Away_Scores  Away_Wins  \\\n",
       "HomeTeam                                                                    \n",
       "Aachen                  15          4          17           15          2   \n",
       "Arsenal                 39         12          19           35          9   \n",
       "Aston Villa             20          4          19           17          3   \n",
       "Augsburg                20          6          17           16          2   \n",
       "Bayern Munich           49         14          17           28          9   \n",
       "\n",
       "               Away_Games  Tot_Scores  Tot_Wins  Tot_Games  Tot_Losses  \n",
       "HomeTeam                                                                \n",
       "Aachen                 17          30         6         34          28  \n",
       "Arsenal                19          74        21         38          17  \n",
       "Aston Villa            19          37         7         38          31  \n",
       "Augsburg               17          36         8         34          26  \n",
       "Bayern Munich          17          77        23         34          11  "
      ]
     },
     "execution_count": 105,
     "metadata": {},
     "output_type": "execute_result"
    }
   ],
   "source": [
    "# how many teams\n",
    "display(scores.shape[0])\n",
    "scores.head()"
   ]
  },
  {
   "cell_type": "code",
   "execution_count": 103,
   "metadata": {},
   "outputs": [],
   "source": [
    "# SQL way to do the same\n",
    "\n",
    "# test_df = sql(\"\"\"\n",
    "#     SELECT *\n",
    "#     FROM unique_teams t\n",
    "#     JOIN\n",
    "#         (\n",
    "#         SELECT HomeTeam, Sum(FTHG) Home_Scores, COUNT(*) Home_Games\n",
    "#         FROM matches m\n",
    "#         WHERE season = 2011\n",
    "#         GROUP BY HomeTeam\n",
    "#         )h\n",
    "#     ON t.teamname = h.hometeam\n",
    "#     JOIN\n",
    "#         (\n",
    "#         SELECT AwayTeam, Sum(FTAG) Away_Scores, COUNT(*) Away_Games\n",
    "#         FROM matches m\n",
    "#         WHERE season = 2011\n",
    "#         GROUP BY AwayTeam\n",
    "#         )a\n",
    "#     ON t.teamname = a.awayteam\n",
    "#     \"\"\")\n",
    "\n"
   ]
  },
  {
   "cell_type": "code",
   "execution_count": 203,
   "metadata": {},
   "outputs": [
    {
     "data": {
      "image/png": "[encoded data removed]",
      "text/plain": [
       "<Figure size 432x288 with 1 Axes>"
      ]
     },
     "metadata": {
      "needs_background": "light"
     },
     "output_type": "display_data"
    }
   ],
   "source": [
    "win_hist = plt.hist(scores.Win_Perc, bins=10)\n",
    "plt.show()"
   ]
  },
  {
   "cell_type": "markdown",
   "metadata": {},
   "source": [
    "## 2. Make API calls to get weather data for each match"
   ]
  },
  {
   "cell_type": "code",
   "execution_count": 119,
   "metadata": {},
   "outputs": [],
   "source": [
    "# 165 unique match dates to get weather data on\n",
    "match_dates = matches_df.Date.unique()"
   ]
  },
  {
   "cell_type": "code",
   "execution_count": 133,
   "metadata": {},
   "outputs": [],
   "source": [
    "call = WeatherGetter()"
   ]
  },
  {
   "cell_type": "code",
   "execution_count": 212,
   "metadata": {},
   "outputs": [],
   "source": [
    "# rain_condition = []\n",
    "\n",
    "# for date in match_dates:\n",
    "#     year = int(date[:4])\n",
    "#     month = int(date[5:7])\n",
    "#     day = int(date[8:10])\n",
    "    \n",
    "#     condition = call.getForcast(year,month,day)\n",
    "#     rain_condition.append({date:condition})\n",
    "    \n",
    "\n",
    "\n",
    "        \n",
    "\n",
    "    "
   ]
  },
  {
   "cell_type": "code",
   "execution_count": 216,
   "metadata": {},
   "outputs": [
    {
     "name": "stdout",
     "output_type": "stream",
     "text": [
      "<class 'dict'>\n",
      "<class 'dict'>\n",
      "<class 'dict'>\n",
      "<class 'dict'>\n",
      "<class 'dict'>\n",
      "<class 'dict'>\n",
      "<class 'dict'>\n",
      "<class 'dict'>\n",
      "<class 'dict'>\n",
      "<class 'dict'>\n"
     ]
    }
   ],
   "source": [
    "for weather in rain_condition[:10]:\n",
    "    print(type(weather))"
   ]
  },
  {
   "cell_type": "code",
   "execution_count": 174,
   "metadata": {},
   "outputs": [
    {
     "data": {
      "text/plain": [
       "array(['2012-03-31', '2011-12-11', '2011-08-13', '2011-11-27',\n",
       "       '2012-02-18', '2012-01-20', '2012-02-04', '2012-04-21',\n",
       "       '2011-09-18', '2011-10-23', '2011-10-01', '2012-03-03',\n",
       "       '2011-08-27', '2012-03-17', '2011-11-06'], dtype=object)"
      ]
     },
     "execution_count": 174,
     "metadata": {},
     "output_type": "execute_result"
    }
   ],
   "source": [
    "if condition =='rain':\n",
    "    rain_dict.update({date:1})\n",
    "else:\n",
    "    rain_dict.update({date:0})"
   ]
  },
  {
   "cell_type": "code",
   "execution_count": 177,
   "metadata": {},
   "outputs": [
    {
     "name": "stdout",
     "output_type": "stream",
     "text": [
      "Success\n"
     ]
    },
    {
     "data": {
      "text/plain": [
       "{'latitude': 52.52,\n",
       " 'longitude': 13.405,\n",
       " 'timezone': 'Europe/Berlin',\n",
       " 'daily': {'data': [{'time': 1317420000,\n",
       "    'summary': 'Clear throughout the day.',\n",
       "    'sunriseTime': 1317445680,\n",
       "    'sunsetTime': 1317487560,\n",
       "    'moonPhase': 0.17,\n",
       "    'precipIntensity': 0,\n",
       "    'precipIntensityMax': 0,\n",
       "    'precipProbability': 0,\n",
       "    'temperatureHigh': 78.07,\n",
       "    'temperatureHighTime': 1317480360,\n",
       "    'temperatureLow': 49.15,\n",
       "    'temperatureLowTime': 1317533880,\n",
       "    'apparentTemperatureHigh': 77.57,\n",
       "    'apparentTemperatureHighTime': 1317480360,\n",
       "    'apparentTemperatureLow': 49.64,\n",
       "    'apparentTemperatureLowTime': 1317533880,\n",
       "    'dewPoint': 54.07,\n",
       "    'humidity': 0.76,\n",
       "    'windSpeed': 2.17,\n",
       "    'windGust': 5.37,\n",
       "    'windGustTime': 1317468600,\n",
       "    'windBearing': 75,\n",
       "    'uvIndex': 0,\n",
       "    'uvIndexTime': 1317420000,\n",
       "    'visibility': 6.21,\n",
       "    'temperatureMin': 50.12,\n",
       "    'temperatureMinTime': 1317447600,\n",
       "    'temperatureMax': 78.07,\n",
       "    'temperatureMaxTime': 1317480360,\n",
       "    'apparentTemperatureMin': 50.61,\n",
       "    'apparentTemperatureMinTime': 1317447600,\n",
       "    'apparentTemperatureMax': 77.57,\n",
       "    'apparentTemperatureMaxTime': 1317480360}]},\n",
       " 'offset': 2}"
      ]
     },
     "execution_count": 177,
     "metadata": {},
     "output_type": "execute_result"
    }
   ],
   "source": [
    "\n",
    "weather = call.getForcast(2011,10,1)\n"
   ]
  },
  {
   "cell_type": "code",
   "execution_count": 178,
   "metadata": {},
   "outputs": [
    {
     "data": {
      "text/plain": [
       "{'time': 1317420000,\n",
       " 'summary': 'Clear throughout the day.',\n",
       " 'sunriseTime': 1317445680,\n",
       " 'sunsetTime': 1317487560,\n",
       " 'moonPhase': 0.17,\n",
       " 'precipIntensity': 0,\n",
       " 'precipIntensityMax': 0,\n",
       " 'precipProbability': 0,\n",
       " 'temperatureHigh': 78.07,\n",
       " 'temperatureHighTime': 1317480360,\n",
       " 'temperatureLow': 49.15,\n",
       " 'temperatureLowTime': 1317533880,\n",
       " 'apparentTemperatureHigh': 77.57,\n",
       " 'apparentTemperatureHighTime': 1317480360,\n",
       " 'apparentTemperatureLow': 49.64,\n",
       " 'apparentTemperatureLowTime': 1317533880,\n",
       " 'dewPoint': 54.07,\n",
       " 'humidity': 0.76,\n",
       " 'windSpeed': 2.17,\n",
       " 'windGust': 5.37,\n",
       " 'windGustTime': 1317468600,\n",
       " 'windBearing': 75,\n",
       " 'uvIndex': 0,\n",
       " 'uvIndexTime': 1317420000,\n",
       " 'visibility': 6.21,\n",
       " 'temperatureMin': 50.12,\n",
       " 'temperatureMinTime': 1317447600,\n",
       " 'temperatureMax': 78.07,\n",
       " 'temperatureMaxTime': 1317480360,\n",
       " 'apparentTemperatureMin': 50.61,\n",
       " 'apparentTemperatureMinTime': 1317447600,\n",
       " 'apparentTemperatureMax': 77.57,\n",
       " 'apparentTemperatureMaxTime': 1317480360}"
      ]
     },
     "execution_count": 178,
     "metadata": {},
     "output_type": "execute_result"
    }
   ],
   "source": [
    "weather['daily']['data'][0]"
   ]
  },
  {
   "cell_type": "code",
   "execution_count": null,
   "metadata": {},
   "outputs": [],
   "source": []
  },
  {
   "cell_type": "markdown",
   "metadata": {},
   "source": [
    "## 3. Move data to Mongodb"
   ]
  },
  {
   "cell_type": "code",
   "execution_count": null,
   "metadata": {},
   "outputs": [],
   "source": [
    "# url is made up of protocal + IP address + port\n",
    "myclient = pymongo.MongoClient(\"mongodb://127.0.0.1:27017/\")\n",
    "\n",
    "# grab a database from your server \n",
    "mydb = myclient['matches_data']\n",
    "\n",
    "# this can be a new one or an existing one\n",
    "# (if it doesn't exist, it will get create when you write data into it)"
   ]
  },
  {
   "cell_type": "markdown",
   "metadata": {},
   "source": [
    "# Summary\n",
    "\n",
    "In this lab, we dug deep and used everything we've learned so far about python programming, databases, HTTP requests and API calls to ETL data from a SQL database into a MongoDB instance!"
   ]
  }
 ],
 "metadata": {
  "kernelspec": {
   "display_name": "Python 3",
   "language": "python",
   "name": "python3"
  },
  "language_info": {
   "codemirror_mode": {
    "name": "ipython",
    "version": 3
   },
   "file_extension": ".py",
   "mimetype": "text/x-python",
   "name": "python",
   "nbconvert_exporter": "python",
   "pygments_lexer": "ipython3",
   "version": "3.7.3"
  }
 },
 "nbformat": 4,
 "nbformat_minor": 4
}
